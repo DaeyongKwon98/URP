{
 "cells": [
  {
   "cell_type": "code",
   "execution_count": 1,
   "metadata": {},
   "outputs": [],
   "source": [
    "import numpy as np\n",
    "import pandas as pd\n",
    "import scipy\n",
    "import json\n",
    "from collections import Counter\n",
    "import copy"
   ]
  },
  {
   "cell_type": "code",
   "execution_count": 18,
   "metadata": {},
   "outputs": [
    {
     "name": "stdout",
     "output_type": "stream",
     "text": [
      "CPU times: total: 312 ms\n",
      "Wall time: 318 ms\n"
     ]
    }
   ],
   "source": [
    "%%time\n",
    "# 입력데이터 로드\n",
    "# train = pd.read_json('models_split/test_playlists_8', typ = 'frame')\n",
    "\n",
    "with open('models_split/playlists_ids_train.json', 'r', encoding='utf-8') as json_file:\n",
    "    apc_train_playlist = json.load(json_file)\n",
    "\n",
    "with open('models_split/track_ids_train.json', 'r', encoding='utf-8') as json_file:\n",
    "    apc_train_track = json.load(json_file)\n",
    "\n",
    "with open('models_split/track_ids_1.json', 'r', encoding='utf-8') as json_file:\n",
    "    apc_1_track = json.load(json_file)\n",
    "    \n",
    "with open('models_split/track_ids_5.json', 'r', encoding='utf-8') as json_file:\n",
    "    apc_5_track = json.load(json_file)\n",
    "    \n",
    "with open('models_split/track_ids_8.json', 'r', encoding='utf-8') as json_file:\n",
    "    apc_8_track = json.load(json_file)\n",
    "    \n",
    "with open('models_split/test_playlists_1.json', 'r', encoding='utf-8') as json_file:\n",
    "    apc_test_train = json.load(json_file)\n",
    "    \n",
    "with open('models_split/test_cf_playlists_1.json', 'r', encoding='utf-8') as json_file:\n",
    "    test_cf_1 = json.load(json_file)\n",
    "    \n",
    "with open('models_split/test_cf_playlists_5.json', 'r', encoding='utf-8') as json_file:\n",
    "    test_cf_5 = json.load(json_file)\n",
    "    \n",
    "with open('models_split/test_cf_playlists_8.json', 'r', encoding='utf-8') as json_file:\n",
    "    test_cf_8 = json.load(json_file)\n",
    "\n"
   ]
  },
  {
   "cell_type": "code",
   "execution_count": 19,
   "metadata": {},
   "outputs": [
    {
     "name": "stdout",
     "output_type": "stream",
     "text": [
      "35361\n",
      "38714\n",
      "24428\n"
     ]
    }
   ],
   "source": [
    "#print(len(apc_train_playlist))\n",
    "#print(len(apc_train_track))\n",
    "'''\n",
    "print(len(apc_1_track))\n",
    "print(len(apc_5_track))\n",
    "print(len(apc_8_track))\n",
    "\n",
    "print(len(apc_test_train))\n",
    "print(len(apc_test_1))\n",
    "print(len(apc_test_5))\n",
    "print(len(apc_test_8))\n",
    "'''\n",
    "print(len(test_cf_1))\n",
    "print(len(test_cf_5))\n",
    "print(len(test_cf_8))\n",
    "\n"
   ]
  },
  {
   "cell_type": "code",
   "execution_count": 3,
   "metadata": {},
   "outputs": [
    {
     "name": "stdout",
     "output_type": "stream",
     "text": [
      "APC_train playlists: 104645\n",
      "APC_train_tracks: 81219\n"
     ]
    }
   ],
   "source": [
    "with open('models_split/playlists_ids_train.json', 'r', encoding='utf-8') as json_file:\n",
    "    apc_train_playlist = json.load(json_file)\n",
    "\n",
    "with open('models_split/track_ids_train.json', 'r', encoding='utf-8') as json_file:\n",
    "    apc_train_track = json.load(json_file)\n",
    "\n",
    "print(\"APC_train playlists:\",len(apc_train_playlist))\n",
    "print(\"APC_train_tracks:\",len(apc_train_track))"
   ]
  }
 ],
 "metadata": {
  "kernelspec": {
   "display_name": "env1",
   "language": "python",
   "name": "python3"
  },
  "language_info": {
   "codemirror_mode": {
    "name": "ipython",
    "version": 3
   },
   "file_extension": ".py",
   "mimetype": "text/x-python",
   "name": "python",
   "nbconvert_exporter": "python",
   "pygments_lexer": "ipython3",
   "version": "3.11.3"
  },
  "orig_nbformat": 4
 },
 "nbformat": 4,
 "nbformat_minor": 2
}
