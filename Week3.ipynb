{
 "cells": [
  {
   "cell_type": "code",
   "execution_count": 1,
   "metadata": {},
   "outputs": [],
   "source": [
    "import numpy as np\n",
    "import pandas as pd\n",
    "import scipy\n",
    "import seaborn as sns\n",
    "import matplotlib.pyplot as plt\n",
    "from tqdm import notebook\n",
    "import json\n",
    "from collections import Counter\n",
    "from plotnine import *\n",
    "import plotnine"
   ]
  },
  {
   "cell_type": "code",
   "execution_count": 2,
   "metadata": {},
   "outputs": [],
   "source": [
    "import matplotlib.font_manager as fm\n",
    "import matplotlib as mpl\n",
    "import koreanize_matplotlib\n",
    "from matplotlib import rc\n",
    "from pandas.plotting import register_matplotlib_converters\n",
    "\n",
    "font_path = 'C:/Users/User/Desktop/URP/NanumBarunGothic.ttf'\n",
    "fe = fm.FontEntry(fname=font_path,name='font')\n",
    "fm.fontManager.ttflist.insert(0,fe)\n",
    "plt.rcParams.update({'font.size':12,'font.family':'NanumGothic'})"
   ]
  },
  {
   "cell_type": "code",
   "execution_count": 3,
   "metadata": {},
   "outputs": [
    {
     "name": "stdout",
     "output_type": "stream",
     "text": [
      "CPU times: total: 10.5 s\n",
      "Wall time: 10.8 s\n"
     ]
    }
   ],
   "source": [
    "%%time\n",
    "# 입력데이터 로드\n",
    "train = pd.read_json('train.json', typ = 'frame')\n",
    "test = pd.read_json('test.json', typ = 'frame')\n",
    "val = pd.read_json('val.json', typ = 'frame')\n",
    "genre = pd.read_json('genre_gn_all.json', typ = 'series')\n",
    "meta = pd.read_json('song_meta.json', typ = 'frame')"
   ]
  },
  {
   "cell_type": "code",
   "execution_count": 5,
   "metadata": {},
   "outputs": [
    {
     "name": "stdout",
     "output_type": "stream",
     "text": [
      "Reading data...\n",
      "\n",
      "Total playlists: 115071\n",
      "Discard playlists with less than 5 tracks...\n",
      "\n"
     ]
    },
    {
     "name": "stderr",
     "output_type": "stream",
     "text": [
      "Traceback (most recent call last):\n",
      "  File \"c:\\Users\\User\\Desktop\\URP\\code\\try_new_split.py\", line 163, in <module>\n",
      "    fire.Fire(ArenaSplitter)\n",
      "  File \"c:\\Users\\User\\anaconda3\\envs\\env1\\Lib\\site-packages\\fire\\core.py\", line 141, in Fire\n",
      "    component_trace = _Fire(component, args, parsed_flag_args, context, name)\n",
      "                      ^^^^^^^^^^^^^^^^^^^^^^^^^^^^^^^^^^^^^^^^^^^^^^^^^^^^^^^\n",
      "  File \"c:\\Users\\User\\anaconda3\\envs\\env1\\Lib\\site-packages\\fire\\core.py\", line 475, in _Fire\n",
      "    component, remaining_args = _CallAndUpdateTrace(\n",
      "                                ^^^^^^^^^^^^^^^^^^^^\n",
      "  File \"c:\\Users\\User\\anaconda3\\envs\\env1\\Lib\\site-packages\\fire\\core.py\", line 691, in _CallAndUpdateTrace\n",
      "    component = fn(*varargs, **kwargs)\n",
      "                ^^^^^^^^^^^^^^^^^^^^^^\n",
      "  File \"c:\\Users\\User\\Desktop\\URP\\code\\try_new_split.py\", line 140, in run\n",
      "    playlst_song_map = self._mapping_function(playlists, 'id', 'songs')\n",
      "                       ^^^^^^^^^^^^^^^^^^^^^^^^^^^^^^^^^^^^^^^^^^^^^^^^\n",
      "  File \"c:\\Users\\User\\Desktop\\URP\\code\\try_new_split.py\", line 33, in _mapping_function\n",
      "    plylst_song_map = data[[col1, col2]]\n",
      "                      ~~~~^^^^^^^^^^^^^^\n",
      "TypeError: list indices must be integers or slices, not list\n"
     ]
    }
   ],
   "source": [
    "# paper baseline 구현 위해 new split 시도\n",
    "!python try_new_split.py run train.json"
   ]
  },
  {
   "cell_type": "code",
   "execution_count": 3,
   "metadata": {},
   "outputs": [
    {
     "name": "stdout",
     "output_type": "stream",
     "text": [
      "Reading data...\n",
      "\n",
      "Total playlists: 115071\n",
      "Splitting data...\n",
      "Original train...\n",
      "Original val...\n",
      "Masked val...\n",
      "Total: 23015, Song only: 6904, Song & Tags: 11508, Tags only: 3452, Title only: 1151\n"
     ]
    }
   ],
   "source": [
    "!python split_data.py run train.json"
   ]
  },
  {
   "cell_type": "code",
   "execution_count": 5,
   "metadata": {},
   "outputs": [
    {
     "name": "stdout",
     "output_type": "stream",
     "text": [
      "Loading train file...\n",
      "Loading question file...\n",
      "Writing answers...\n"
     ]
    },
    {
     "name": "stderr",
     "output_type": "stream",
     "text": [
      "\n",
      "  0%|          | 0/23015 [00:00<?, ?it/s]\n",
      " 21%|██        | 4762/23015 [00:00<00:00, 47233.44it/s]\n",
      " 43%|████▎     | 9786/23015 [00:00<00:00, 48995.61it/s]\n",
      " 64%|██████▍   | 14687/23015 [00:00<00:00, 45431.92it/s]\n",
      " 84%|████████▎ | 19259/23015 [00:00<00:00, 32597.13it/s]\n",
      "100%|██████████| 23015/23015 [00:00<00:00, 37251.53it/s]\n"
     ]
    }
   ],
   "source": [
    "# 주어진 전체 플레이리스트에서 가장 많이 등장한 곡과 태그를 모든 문제에 대해서 답안으로 내놓는 모델\n",
    "\n",
    "!python most_popular.py run \\\n",
    " \t--train_fname=arena_data/orig/train.json \\\n",
    " \t--question_fname=arena_data/questions/val.json\n"
   ]
  },
  {
   "cell_type": "code",
   "execution_count": 11,
   "metadata": {},
   "outputs": [
    {
     "name": "stdout",
     "output_type": "stream",
     "text": [
      "Loading song meta...\n",
      "Loading train file...\n",
      "Loading question file...\n",
      "Writing answers...\n"
     ]
    },
    {
     "name": "stderr",
     "output_type": "stream",
     "text": [
      "\n",
      "  0%|          | 0/23015 [00:00<?, ?it/s]\n",
      "  6%|▌         | 1376/23015 [00:00<00:02, 10232.22it/s]\n",
      " 12%|█▏        | 2753/23015 [00:00<00:01, 11992.82it/s]\n",
      " 18%|█▊        | 4164/23015 [00:00<00:01, 12779.68it/s]\n",
      " 24%|██▍       | 5570/23015 [00:00<00:01, 13210.20it/s]\n",
      " 30%|███       | 6932/23015 [00:00<00:01, 13340.14it/s]\n",
      " 36%|███▌      | 8275/23015 [00:00<00:01, 13324.87it/s]\n",
      " 42%|████▏     | 9670/23015 [00:00<00:01, 13313.25it/s]\n",
      " 48%|████▊     | 11010/23015 [00:00<00:00, 13338.89it/s]\n",
      " 54%|█████▍    | 12409/23015 [00:00<00:00, 13503.73it/s]\n",
      " 61%|██████    | 13941/23015 [00:01<00:00, 14028.64it/s]\n",
      " 67%|██████▋   | 15346/23015 [00:01<00:00, 13740.53it/s]\n",
      " 73%|███████▎  | 16723/23015 [00:01<00:00, 13725.68it/s]\n",
      " 79%|███████▊  | 18098/23015 [00:01<00:00, 13679.68it/s]\n",
      " 85%|████████▍ | 19468/23015 [00:01<00:00, 13325.63it/s]\n",
      " 91%|█████████ | 20938/23015 [00:01<00:00, 13724.90it/s]\n",
      " 97%|█████████▋| 22323/23015 [00:01<00:00, 13761.44it/s]\n",
      "100%|██████████| 23015/23015 [00:01<00:00, 13346.56it/s]\n"
     ]
    }
   ],
   "source": [
    "# 주어지는 각 문제마다, 가장 많이 등장하는 장르에 대해 해당 장르에서 가장 빈번하게 등장하는 곡들을 답안으로 내놓는 모델\n",
    "\n",
    "!python genre_most_popular.py run \\\n",
    " \t--song_meta_fname=song_meta.json \\\n",
    " \t--train_fname=arena_data/orig/train.json \\\n",
    " \t--question_fname=arena_data/questions/val.json"
   ]
  },
  {
   "cell_type": "code",
   "execution_count": 7,
   "metadata": {},
   "outputs": [
    {
     "name": "stdout",
     "output_type": "stream",
     "text": [
      "Loading song meta...\n",
      "Loading train file...\n",
      "Loading question file...\n",
      "Writing answers...\n"
     ]
    },
    {
     "name": "stderr",
     "output_type": "stream",
     "text": [
      "Traceback (most recent call last):\n",
      "  File \"c:\\Users\\User\\Desktop\\URP\\code\\MF.py\", line 68, in <module>\n",
      "    fire.Fire(MFmax)\n",
      "  File \"c:\\Users\\User\\anaconda3\\envs\\env1\\Lib\\site-packages\\fire\\core.py\", line 141, in Fire\n",
      "    component_trace = _Fire(component, args, parsed_flag_args, context, name)\n",
      "                      ^^^^^^^^^^^^^^^^^^^^^^^^^^^^^^^^^^^^^^^^^^^^^^^^^^^^^^^\n",
      "  File \"c:\\Users\\User\\anaconda3\\envs\\env1\\Lib\\site-packages\\fire\\core.py\", line 475, in _Fire\n",
      "    component, remaining_args = _CallAndUpdateTrace(\n",
      "                                ^^^^^^^^^^^^^^^^^^^^\n",
      "  File \"c:\\Users\\User\\anaconda3\\envs\\env1\\Lib\\site-packages\\fire\\core.py\", line 691, in _CallAndUpdateTrace\n",
      "    component = fn(*varargs, **kwargs)\n",
      "                ^^^^^^^^^^^^^^^^^^^^^^\n",
      "  File \"c:\\Users\\User\\Desktop\\URP\\code\\MF.py\", line 63, in run\n",
      "    answers = self._generate_answers(song_meta_json, train_data, questions)\n",
      "              ^^^^^^^^^^^^^^^^^^^^^^^^^^^^^^^^^^^^^^^^^^^^^^^^^^^^^^^^^^^^^\n",
      "  File \"c:\\Users\\User\\Desktop\\URP\\code\\MF.py\", line 17, in _generate_answers\n",
      "    playlist_by_track_ones = np.ones((len(train),len(song_meta_json)), dtype=int)\n",
      "                             ^^^^^^^^^^^^^^^^^^^^^^^^^^^^^^^^^^^^^^^^^^^^^^^^^^^^\n",
      "  File \"c:\\Users\\User\\anaconda3\\envs\\env1\\Lib\\site-packages\\numpy\\core\\numeric.py\", line 191, in ones\n",
      "    a = empty(shape, dtype, order)\n",
      "        ^^^^^^^^^^^^^^^^^^^^^^^^^^\n",
      "numpy.core._exceptions._ArrayMemoryError: Unable to allocate 243. GiB for an array with shape (92056, 707989) and data type int32\n"
     ]
    }
   ],
   "source": [
    "# SVD\n",
    "\n",
    "!python MF.py run \\\n",
    " \t--song_meta_fname=song_meta.json \\\n",
    " \t--train_fname=arena_data/orig/train.json \\\n",
    " \t--question_fname=arena_data/questions/val.json"
   ]
  },
  {
   "cell_type": "code",
   "execution_count": 8,
   "metadata": {},
   "outputs": [
    {
     "name": "stdout",
     "output_type": "stream",
     "text": [
      "Loading train file...\n",
      "Loading question file...\n",
      "Writing answers...\n"
     ]
    },
    {
     "name": "stderr",
     "output_type": "stream",
     "text": [
      "\n",
      "  0%|          | 0/23015 [00:00<?, ?it/s]\n",
      " 20%|██        | 4717/23015 [00:00<00:00, 47033.57it/s]\n",
      " 41%|████      | 9421/23015 [00:00<00:00, 43878.30it/s]\n",
      " 60%|██████    | 13823/23015 [00:00<00:00, 42924.69it/s]\n",
      " 79%|███████▊  | 18123/23015 [00:00<00:00, 30391.27it/s]\n",
      " 97%|█████████▋| 22439/23015 [00:00<00:00, 33867.46it/s]\n",
      "100%|██████████| 23015/23015 [00:00<00:00, 35916.52it/s]\n"
     ]
    }
   ],
   "source": [
    "# Random selection\n",
    "\n",
    "!python random_select.py run \\\n",
    " \t--train_fname=arena_data/orig/train.json \\\n",
    " \t--question_fname=arena_data/questions/val.json"
   ]
  },
  {
   "cell_type": "code",
   "execution_count": 8,
   "metadata": {},
   "outputs": [
    {
     "name": "stdout",
     "output_type": "stream",
     "text": [
      "Music nDCG: 0.0169694\n",
      "Music MAP: 0.0239726\n"
     ]
    }
   ],
   "source": [
    "# Score 평가\n",
    "\n",
    "!python evaluate.py evaluate \\\n",
    "\t--gt_fname=arena_data/answers/val.json \\\n",
    "\t--rec_fname=arena_data/results/results.json"
   ]
  }
 ],
 "metadata": {
  "kernelspec": {
   "display_name": "env1",
   "language": "python",
   "name": "python3"
  },
  "language_info": {
   "codemirror_mode": {
    "name": "ipython",
    "version": 3
   },
   "file_extension": ".py",
   "mimetype": "text/x-python",
   "name": "python",
   "nbconvert_exporter": "python",
   "pygments_lexer": "ipython3",
   "version": "3.11.3"
  },
  "orig_nbformat": 4
 },
 "nbformat": 4,
 "nbformat_minor": 2
}
