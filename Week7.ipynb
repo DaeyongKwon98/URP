{
 "cells": [
  {
   "cell_type": "code",
   "execution_count": 1,
   "metadata": {},
   "outputs": [],
   "source": [
    "import numpy as np\n",
    "import pandas as pd\n",
    "import scipy\n",
    "import json\n",
    "from collections import Counter\n",
    "import copy\n",
    "import random\n",
    "import sklearn"
   ]
  },
  {
   "cell_type": "code",
   "execution_count": 2,
   "metadata": {},
   "outputs": [
    {
     "name": "stdout",
     "output_type": "stream",
     "text": [
      "CPU times: total: 10.1 s\n",
      "Wall time: 10.2 s\n"
     ]
    }
   ],
   "source": [
    "%%time\n",
    "# 입력데이터 로드\n",
    "train = pd.read_json('train.json', typ = 'frame')\n",
    "meta = pd.read_json('song_meta.json', typ = 'frame') # 707989\n",
    "#sub_train = train.loc[:len(train)//10] # 11508\n",
    "sub_train = train.loc[:len(train)//500]\n",
    "#question = pd.read_json('arena_data/questions/val.json') # 2302\n",
    "#question = question.loc[:len(question)//20]"
   ]
  },
  {
   "cell_type": "code",
   "execution_count": 15,
   "metadata": {},
   "outputs": [],
   "source": [
    "# sub_train.to_json('sub_train.json', orient='records' , force_ascii=False)\n",
    "# data file에 있는 train.json은 10분의 1 버전, 현재 폴더에 있는 train.json은 원본"
   ]
  },
  {
   "cell_type": "code",
   "execution_count": 3,
   "metadata": {},
   "outputs": [
    {
     "name": "stderr",
     "output_type": "stream",
     "text": [
      "C:\\Users\\User\\AppData\\Local\\Temp\\ipykernel_21332\\3496926163.py:4: SettingWithCopyWarning: \n",
      "A value is trying to be set on a copy of a slice from a DataFrame.\n",
      "Try using .loc[row_indexer,col_indexer] = value instead\n",
      "\n",
      "See the caveats in the documentation: https://pandas.pydata.org/pandas-docs/stable/user_guide/indexing.html#returning-a-view-versus-a-copy\n",
      "  new_meta[\"artist_name_basket\"] = new_meta[\"artist_name_basket\"].apply(lambda x: x[0] if x else x)\n"
     ]
    }
   ],
   "source": [
    "# Own playlist test code\n",
    "\n",
    "new_meta = meta[['id','artist_name_basket','song_gn_gnr_basket','song_name']]\n",
    "new_meta[\"artist_name_basket\"] = new_meta[\"artist_name_basket\"].apply(lambda x: x[0] if x else x)\n",
    "\n",
    "paulkim = new_meta[new_meta[\"artist_name_basket\"] == \"폴킴\"]\n",
    "\n",
    "ply1 = paulkim[\"id\"].tolist()[:20]\n",
    "ply2 = paulkim[\"id\"].tolist()[20:40]\n",
    "ply3 = paulkim[\"id\"].tolist()[40:60]\n",
    "playlists = [ply1,ply2,ply3]"
   ]
  },
  {
   "cell_type": "code",
   "execution_count": 6,
   "metadata": {},
   "outputs": [],
   "source": [
    "# binary playlist by track matrix 만들기\n",
    "num_playlist = len(sub_train)\n",
    "num_songs = len(meta)\n",
    "num_val = len(question)\n",
    "\n",
    "playlist_by_track = np.zeros((num_playlist+3,num_songs), dtype=int)\n",
    "\n",
    "for i, row in sub_train.iterrows():\n",
    "    songs = row[\"songs\"]\n",
    "    for songid in songs:\n",
    "        if songid < num_songs:\n",
    "            playlist_by_track[i][songid] = 1\n",
    "\n",
    "for i in range(3):\n",
    "    songs = playlists[i]\n",
    "    for songid in songs:\n",
    "        playlist_by_track[num_playlist+i][songid] = 1\n"
   ]
  },
  {
   "cell_type": "code",
   "execution_count": 6,
   "metadata": {},
   "outputs": [],
   "source": [
    "from scipy.sparse import csr_matrix, save_npz\n",
    "\n",
    "# NumPy 배열을 CSR 희소 행렬로 변환\n",
    "sparse_matrix = csr_matrix(playlist_by_track)\n",
    "\n",
    "# 희소 행렬을 NPZ 파일로 저장\n",
    "save_npz('playlist_by_track_sparse.npz', sparse_matrix)"
   ]
  },
  {
   "cell_type": "code",
   "execution_count": 2,
   "metadata": {},
   "outputs": [],
   "source": [
    "from scipy.sparse import load_npz\n",
    "# 저장된 sparse_matrix 파일 불러오기\n",
    "loaded_sparse_matrix = load_npz('playlist_by_track_sparse.npz').toarray()\n",
    "playlist_by_track = loaded_sparse_matrix"
   ]
  },
  {
   "cell_type": "code",
   "execution_count": 7,
   "metadata": {},
   "outputs": [],
   "source": [
    "# val, question, answer는 URP/code/arena_data 폴더에 있음\n",
    "\n",
    "from sklearn.decomposition import TruncatedSVD\n",
    "svd = TruncatedSVD(n_components=128)\n",
    "tsvd = svd.fit_transform(playlist_by_track)\n",
    "\n",
    "reconstructed_matrix = np.dot(tsvd, svd.components_)\n",
    "#reconstructed_matrix = np.sort(reconstructed_matrix, axis=1)[:, ::-1]"
   ]
  },
  {
   "cell_type": "code",
   "execution_count": 8,
   "metadata": {},
   "outputs": [],
   "source": [
    "# 기존에 1이없던 값 0으로 masking하기\n",
    "\n",
    "one_index = [np.where(row > 0)[0] for row in playlist_by_track]\n",
    "\n",
    "mask = np.zeros_like(reconstructed_matrix, dtype=bool)\n",
    "\n",
    "for i, index in enumerate(one_index):\n",
    "    mask[i, index] = True\n",
    "    \n",
    "reconstructed_matrix[mask] = 0\n",
    "\n",
    "# TOP 100 SONGS 찾기\n",
    "largest_indices = np.argsort(-reconstructed_matrix, axis=1)[:, :100]"
   ]
  },
  {
   "cell_type": "code",
   "execution_count": 16,
   "metadata": {},
   "outputs": [
    {
     "data": {
      "text/plain": [
       "array([656648,  93930, 523886, 561050,   6453, 200765, 433998, 168657,\n",
       "       536290, 414836, 416950, 100818,  96170, 393260, 335324,  40271,\n",
       "       693650, 117448, 423438, 267138, 370542, 559944, 180902,  14313,\n",
       "       622947, 646865, 404290, 345115, 191473, 383208, 524734, 695248,\n",
       "        52146, 323904, 261511, 114470,  53478, 521316, 235513, 453362,\n",
       "       160386, 537220, 667211, 694099,  47587, 559688,  38790, 281630,\n",
       "       522055, 348769, 122741, 562575, 265032, 693110, 153940, 456106,\n",
       "        49666, 600807, 112069, 149555, 544355, 333443, 516249, 625154,\n",
       "       336854, 158639, 405812, 655449, 593959, 434008, 243286, 338581,\n",
       "       138571, 502732, 105370, 667587, 104182, 418935,  59636, 595717,\n",
       "        28832, 505036, 109574, 517723, 506919, 459165, 505710, 264505,\n",
       "       541682, 499085, 558822, 619251,   9091, 159289, 622756, 657469,\n",
       "       566468, 248343, 669822, 478572], dtype=int64)"
      ]
     },
     "execution_count": 16,
     "metadata": {},
     "output_type": "execute_result"
    }
   ],
   "source": [
    "answer1 = largest_indices[-3]\n",
    "answer2 = largest_indices[-2]\n",
    "answer3 = largest_indices[-1]\n",
    "answers = [answer1,answer2,answer3]"
   ]
  },
  {
   "cell_type": "code",
   "execution_count": 24,
   "metadata": {},
   "outputs": [
    {
     "data": {
      "text/html": [
       "<div>\n",
       "<style scoped>\n",
       "    .dataframe tbody tr th:only-of-type {\n",
       "        vertical-align: middle;\n",
       "    }\n",
       "\n",
       "    .dataframe tbody tr th {\n",
       "        vertical-align: top;\n",
       "    }\n",
       "\n",
       "    .dataframe thead th {\n",
       "        text-align: right;\n",
       "    }\n",
       "</style>\n",
       "<table border=\"1\" class=\"dataframe\">\n",
       "  <thead>\n",
       "    <tr style=\"text-align: right;\">\n",
       "      <th></th>\n",
       "      <th>song_gn_dtl_gnr_basket</th>\n",
       "      <th>issue_date</th>\n",
       "      <th>album_name</th>\n",
       "      <th>album_id</th>\n",
       "      <th>artist_id_basket</th>\n",
       "      <th>song_name</th>\n",
       "      <th>song_gn_gnr_basket</th>\n",
       "      <th>artist_name_basket</th>\n",
       "      <th>id</th>\n",
       "    </tr>\n",
       "  </thead>\n",
       "  <tbody>\n",
       "    <tr>\n",
       "      <th>0</th>\n",
       "      <td>[GN0901]</td>\n",
       "      <td>20140512</td>\n",
       "      <td>불후의 명곡 - 7080 추억의 얄개시대 팝송베스트</td>\n",
       "      <td>2255639</td>\n",
       "      <td>[2727]</td>\n",
       "      <td>Feelings</td>\n",
       "      <td>[GN0900]</td>\n",
       "      <td>[Various Artists]</td>\n",
       "      <td>0</td>\n",
       "    </tr>\n",
       "  </tbody>\n",
       "</table>\n",
       "</div>"
      ],
      "text/plain": [
       "  song_gn_dtl_gnr_basket  issue_date                    album_name  album_id  \\\n",
       "0               [GN0901]    20140512  불후의 명곡 - 7080 추억의 얄개시대 팝송베스트   2255639   \n",
       "\n",
       "  artist_id_basket song_name song_gn_gnr_basket artist_name_basket  id  \n",
       "0           [2727]  Feelings           [GN0900]  [Various Artists]   0  "
      ]
     },
     "execution_count": 24,
     "metadata": {},
     "output_type": "execute_result"
    }
   ],
   "source": [
    "meta.head(1)"
   ]
  },
  {
   "cell_type": "code",
   "execution_count": 52,
   "metadata": {},
   "outputs": [
    {
     "name": "stdout",
     "output_type": "stream",
     "text": [
      "[[['멜로우 노트'], '여름밤 너와 (Summernight , With You)']]\n",
      "[[['Kazumi Tateishi Trio'], '歸らざる日日 / Kaerazaru Hibi (돌아올 수 없는 날들) (붉은 돼지 중에서)']]\n",
      "[[['Yanni'], 'Reflections Of Passion']]\n",
      "[[['제이레빗(J Rabbit)'], '인사 (Inst.)']]\n",
      "[[['V.O.S'], '울어']]\n",
      "[[['소정 (레이디스 코드)'], '우린 왜 이별 하는 걸까? (Better than Me)']]\n",
      "[[['엠씨더맥스 (M.C the MAX)'], '잠시만 안녕 (Original)']]\n",
      "[[['스웨덴세탁소'], 'foggy']]\n",
      "[[['남우현'], '끄덕끄덕']]\n",
      "[[['진원'], '고칠게']]\n",
      "[[['스웨덴세탁소'], '안돼']]\n",
      "[[['엠씨더맥스 (M.C the MAX)'], '입술의 말']]\n",
      "[[['양다일', '효린'], '그리워']]\n",
      "[[['먼데이 키즈 (Monday Kiz)', '김나영'], '눈물 (Tears)']]\n",
      "[[['지코 (ZICO)', '소진 (Sojin)'], '아프다']]\n",
      "[[['스웨덴세탁소'], '처음이라서 (With 이루마)']]\n",
      "[[['바닐라 어쿠스틱'], '울컥해']]\n",
      "[[['한경일'], '너는 간단하고 나는 복잡한 얘기']]\n",
      "[[['KCM'], '5일']]\n",
      "[[['에픽하이 (EPIK HIGH)'], 'Love Love Love (Feat. Yoong Jin Of Casker)']]\n",
      "[[['프리스타일'], '수취인 불명']]\n",
      "[[['스웨덴세탁소'], '기념일']]\n",
      "[[['정키'], '잊혀지다 (Feat. 양다일)']]\n",
      "[[['장덕철'], '그때, 우리로']]\n",
      "[[['엠씨더맥스 (M.C the MAX)'], '1월']]\n"
     ]
    }
   ],
   "source": [
    "for i in range(75,100,1):\n",
    "    print(meta[meta[\"id\"]==answer2[i]][[\"artist_name_basket\",\"song_name\"]].values.tolist())"
   ]
  },
  {
   "cell_type": "code",
   "execution_count": null,
   "metadata": {},
   "outputs": [],
   "source": [
    "for songid in answer2:\n",
    "    meta[meta[\"id\"]==songid][]"
   ]
  },
  {
   "cell_type": "code",
   "execution_count": 57,
   "metadata": {},
   "outputs": [
    {
     "name": "stdout",
     "output_type": "stream",
     "text": [
      "Available Memory: 1.34 GiB\n"
     ]
    }
   ],
   "source": [
    "import psutil\n",
    "\n",
    "available_memory = psutil.virtual_memory().available\n",
    "print(f\"Available Memory: {available_memory / (1024 ** 3):.2f} GiB\")"
   ]
  }
 ],
 "metadata": {
  "kernelspec": {
   "display_name": "env1",
   "language": "python",
   "name": "python3"
  },
  "language_info": {
   "codemirror_mode": {
    "name": "ipython",
    "version": 3
   },
   "file_extension": ".py",
   "mimetype": "text/x-python",
   "name": "python",
   "nbconvert_exporter": "python",
   "pygments_lexer": "ipython3",
   "version": "3.11.3"
  },
  "orig_nbformat": 4
 },
 "nbformat": 4,
 "nbformat_minor": 2
}
